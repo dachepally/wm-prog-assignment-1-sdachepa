{
 "cells": [
  {
   "cell_type": "code",
   "execution_count": 1,
   "metadata": {},
   "outputs": [],
   "source": [
    "# Sai Sri Dachepalli"
   ]
  },
  {
   "cell_type": "code",
   "execution_count": 2,
   "metadata": {},
   "outputs": [
    {
     "name": "stdout",
     "output_type": "stream",
     "text": [
      "#      #\n",
      "##    ##\n",
      "###  ###\n",
      "########\n"
     ]
    }
   ],
   "source": [
    "for var in range(1,5):\n",
    "    for b in range(1,var+1):\n",
    "        print('#',end='')\n",
    "    if var==1:\n",
    "        for temp in range(6,0,-1):\n",
    "            print(end=' ')\n",
    "    elif var==2:\n",
    "        for temp in range(4,0,-1):\n",
    "            print(end=' ')\n",
    "    elif var==3:\n",
    "        for temp in range(2,0,-1):\n",
    "            print(end=' ')\n",
    "    for y in range(1,var+1):\n",
    "        print('#',end='')\n",
    "    print(\"\") \n",
    " "
   ]
  }
 ],
 "metadata": {
  "kernelspec": {
   "display_name": "Python 3",
   "language": "python",
   "name": "python3"
  },
  "language_info": {
   "codemirror_mode": {
    "name": "ipython",
    "version": 3
   },
   "file_extension": ".py",
   "mimetype": "text/x-python",
   "name": "python",
   "nbconvert_exporter": "python",
   "pygments_lexer": "ipython3",
   "version": "3.7.3"
  }
 },
 "nbformat": 4,
 "nbformat_minor": 2
}
